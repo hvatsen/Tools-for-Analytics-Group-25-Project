{
 "cells": [
  {
   "cell_type": "code",
   "execution_count": null,
   "id": "f3cf4761-bb93-4e5f-b46d-01a194fe0ce0",
   "metadata": {},
   "outputs": [],
   "source": [
    "# Reading the csv files and storing it to a variable called df\n",
    "import pandas as pd\n",
    "df = pd.read_csv('311_Service_Requests_2020.csv')"
   ]
  },
  {
   "cell_type": "code",
   "execution_count": null,
   "id": "54e42a57",
   "metadata": {},
   "outputs": [],
   "source": [
    "# Checking whether the column 'Complaint Type' has null value or not -> since there is no null, we can proceed\n",
    "df['Complaint Type'].notna().all()"
   ]
  },
  {
   "cell_type": "code",
   "execution_count": null,
   "id": "e4e1312a",
   "metadata": {},
   "outputs": [],
   "source": [
    "# Defining the zipcode (Andree lives at 70 West 109th Street)\n",
    "zipcode = 10025"
   ]
  },
  {
   "cell_type": "code",
   "execution_count": null,
   "id": "aa717930",
   "metadata": {},
   "outputs": [],
   "source": [
    "# Filtering the original df with the 'zipcode'\n",
    "df_zip = df[df['Incident Zip'] == zipcode]"
   ]
  },
  {
   "cell_type": "code",
   "execution_count": null,
   "id": "46a08e90",
   "metadata": {},
   "outputs": [],
   "source": [
    "# Counting the total number of illegal parking in the filtered df\n",
    "zip_illegal_parking = len(df_zip[df_zip['Complaint Type'] == 'Illegal Parking'])\n",
    "zip_illegal_parking"
   ]
  },
  {
   "cell_type": "code",
   "execution_count": null,
   "id": "0622f686",
   "metadata": {},
   "outputs": [],
   "source": [
    "# Counting the total number of complaint in the filtered df\n",
    "zip_total_complaint = len(df_zip['Complaint Type'])\n",
    "zip_total_complaint"
   ]
  },
  {
   "cell_type": "code",
   "execution_count": null,
   "id": "69569a50",
   "metadata": {},
   "outputs": [],
   "source": [
    "# Counting the proportion in the filtered df\n",
    "zip_proportion = 100* zip_illegal_parking / zip_total_complaint\n",
    "zip_proportion"
   ]
  },
  {
   "cell_type": "code",
   "execution_count": null,
   "id": "e39df539",
   "metadata": {},
   "outputs": [],
   "source": [
    "# Counting the total number of illegal parking in the original df\n",
    "all_illegal_parking = len(df[df['Complaint Type'] == 'Illegal Parking'])\n",
    "all_illegal_parking"
   ]
  },
  {
   "cell_type": "code",
   "execution_count": null,
   "id": "cfb5b262",
   "metadata": {},
   "outputs": [],
   "source": [
    "# Counting the total number of complaint in the original df\n",
    "all_total_complaint = len(df['Complaint Type'])\n",
    "all_total_complaint"
   ]
  },
  {
   "cell_type": "code",
   "execution_count": null,
   "id": "f17eaaff",
   "metadata": {},
   "outputs": [],
   "source": [
    "# Counting the proportion in the original df\n",
    "all_proportion = 100* all_illegal_parking / all_total_complaint\n",
    "all_proportion"
   ]
  },
  {
   "cell_type": "code",
   "execution_count": null,
   "id": "69b5b951",
   "metadata": {},
   "outputs": [],
   "source": [
    "# Assigning the answer to whether the proportion in the filtered df is higher than that of original df\n",
    "higher_parking_proportion = zip_proportion > all_proportion\n",
    "higher_parking_proportion"
   ]
  }
 ],
 "metadata": {
  "kernelspec": {
   "display_name": "Python 3 (ipykernel)",
   "language": "python",
   "name": "python3"
  },
  "language_info": {
   "codemirror_mode": {
    "name": "ipython",
    "version": 3
   },
   "file_extension": ".py",
   "mimetype": "text/x-python",
   "name": "python",
   "nbconvert_exporter": "python",
   "pygments_lexer": "ipython3",
   "version": "3.8.12"
  }
 },
 "nbformat": 4,
 "nbformat_minor": 5
}
