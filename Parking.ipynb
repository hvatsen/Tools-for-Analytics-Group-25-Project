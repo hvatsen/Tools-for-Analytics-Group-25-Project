{
 "cells": [
  {
   "cell_type": "code",
   "execution_count": null,
   "id": "f3cf4761-bb93-4e5f-b46d-01a194fe0ce0",
   "metadata": {},
   "outputs": [],
   "source": [
    "# Reading the csv files and storing it to a variable called df\n",
    "import pandas as pd\n",
    "df = pd.read_csv('311_Service_Requests_2020.csv')"
   ]
  },
  {
   "cell_type": "code",
   "execution_count": null,
   "id": "54e42a57",
   "metadata": {},
   "outputs": [],
   "source": [
    "# Checking whether the column 'Complaint Type' has null value or not -> since there is no null, we can proceed\n",
    "df['Complaint Type'].notna().all()"
   ]
  },
  {
   "cell_type": "code",
   "execution_count": null,
   "id": "e4e1312a",
   "metadata": {},
   "outputs": [],
   "source": [
    "# Defining the zipcode (Andree lives at 70 West 109th Street)\n",
    "zipcode = 10025"
   ]
  }
 ],
 "metadata": {
  "kernelspec": {
   "display_name": "Python 3 (ipykernel)",
   "language": "python",
   "name": "python3"
  },
  "language_info": {
   "codemirror_mode": {
    "name": "ipython",
    "version": 3
   },
   "file_extension": ".py",
   "mimetype": "text/x-python",
   "name": "python",
   "nbconvert_exporter": "python",
   "pygments_lexer": "ipython3",
   "version": "3.8.12"
  }
 },
 "nbformat": 4,
 "nbformat_minor": 5
}
