{
 "cells": [
  {
   "cell_type": "code",
   "execution_count": null,
   "id": "f3cf4761-bb93-4e5f-b46d-01a194fe0ce0",
   "metadata": {},
   "outputs": [],
   "source": [
    "# Reading the csv files and storing it to a variable called df\n",
    "import pandas as pd\n",
    "df = pd.read_csv('311_Service_Requests_2020.csv')"
   ]
  },
  {
   "cell_type": "code",
   "execution_count": null,
   "id": "54e42a57",
   "metadata": {},
   "outputs": [],
   "source": [
    "# Checking whether the column 'Complaint Type' has null value or not -> since there is no null, we can proceed\n",
    "df['Complaint Type'].notna().all()"
   ]
  },
  {
   "cell_type": "code",
   "execution_count": null,
   "id": "e4e1312a",
   "metadata": {},
   "outputs": [],
   "source": [
    "# Defining the zipcode (Andree lives at 70 West 109th Street)\n",
    "zipcode = 10025"
   ]
  },
  {
   "cell_type": "code",
   "execution_count": null,
   "id": "aa717930",
   "metadata": {},
   "outputs": [],
   "source": [
    "# Filtering the original df with the 'zipcode'\n",
    "df_zip = df[df['Incident Zip'] == zipcode]"
   ]
  },
  {
   "cell_type": "code",
   "execution_count": null,
   "id": "46a08e90",
   "metadata": {},
   "outputs": [],
   "source": [
    "# Counting the total number of illegal parking in the filtered df\n",
    "zip_illegal_parking = len(df_zip[df_zip['Complaint Type'] == 'Illegal Parking'])\n",
    "zip_illegal_parking"
   ]
  },
  {
   "cell_type": "code",
   "execution_count": null,
   "id": "0622f686",
   "metadata": {},
   "outputs": [],
   "source": [
    "# Counting the total number of complaint in the filtered df\n",
    "zip_total_complaint = len(df_zip['Complaint Type'])\n",
    "zip_total_complaint"
   ]
  },
  {
   "cell_type": "code",
   "execution_count": null,
   "id": "69569a50",
   "metadata": {},
   "outputs": [],
   "source": [
    "# Counting the proportion in the filtered df\n",
    "zip_proportion = 100* zip_illegal_parking / zip_total_complaint\n",
    "zip_proportion"
   ]
  }
 ],
 "metadata": {
  "kernelspec": {
   "display_name": "Python 3 (ipykernel)",
   "language": "python",
   "name": "python3"
  },
  "language_info": {
   "codemirror_mode": {
    "name": "ipython",
    "version": 3
   },
   "file_extension": ".py",
   "mimetype": "text/x-python",
   "name": "python",
   "nbconvert_exporter": "python",
   "pygments_lexer": "ipython3",
   "version": "3.8.12"
  }
 },
 "nbformat": 4,
 "nbformat_minor": 5
}
