{
 "cells": [
  {
   "cell_type": "code",
   "execution_count": null,
   "metadata": {},
   "outputs": [],
   "source": [
    "# Reading the csv files and storing it to a variable called df\n",
    "import pandas as pd\n",
    "df = pd.read_csv('311_Service_Requests_2020.csv')"
   ]
  },
  {
   "cell_type": "code",
   "execution_count": null,
   "id": "ca4036c6",
   "metadata": {},
   "outputs": [],
   "source": [
    "# Having a quick look at the df\n",
    "df.info()"
   ]
  },
  {
   "cell_type": "code",
   "execution_count": null,
   "id": "50554894",
   "metadata": {},
   "outputs": [],
   "source": [
    "# Checking the first couple of rows of the df\n",
    "df.head()"
   ]
  },
  {
   "cell_type": "code",
   "execution_count": null,
   "id": "9e49e4f3",
   "metadata": {},
   "outputs": [],
   "source": [
    "# Finding out all the columns in the df\n",
    "df.columns"
   ]
  },
  {
   "cell_type": "code",
   "execution_count": null,
   "id": "dd0aab7b",
   "metadata": {},
   "outputs": [],
   "source": [
    "# Defining the zipcode (Andree lives at 70 West 109th Street)\n",
    "zipcode = 10025"
   ]
  },
  {
   "cell_type": "code",
   "execution_count": null,
   "id": "4289e78e",
   "metadata": {},
   "outputs": [],
   "source": [
    "# Filtering the original df\n",
    "df_zip = df[df['Incident Zip'] == zipcode]"
   ]
  },
  {
   "cell_type": "code",
   "execution_count": null,
   "id": "79966162",
   "metadata": {},
   "outputs": [],
   "source": [
    "# Defining the top 10 causes of the call\n",
    "top10 = df_zip.groupby('Complaint Type').count().loc[:,'Incident Zip'].sort_values(ascending=False)[:10]"
   ]
  },
  {
   "cell_type": "code",
   "execution_count": null,
   "id": "10b25f36",
   "metadata": {},
   "outputs": [],
   "source": [
    "# Seeing the results\n",
    "top10"
   ]
  },
  {
   "cell_type": "code",
   "execution_count": null,
   "id": "b144e722",
   "metadata": {},
   "outputs": [],
   "source": [
    "# Confirming the type of the 'top10' variable -> it should be a pandas.Series\n",
    "type(top10)"
   ]
  },
  {
   "cell_type": "code",
   "execution_count": null,
   "id": "9c85af76",
   "metadata": {},
   "outputs": [],
   "source": [
    "# Showing the labels of the 'top10' variable\n",
    "top10.index"
   ]
  },
  {
   "cell_type": "code",
   "execution_count": null,
   "id": "6c444027",
   "metadata": {},
   "outputs": [],
   "source": [
    "# Chekcing whether the label is a string\n",
    "type(top10.index[0])"
   ]
  },
  {
   "cell_type": "code",
   "execution_count": null,
   "id": "9393cc5e",
   "metadata": {},
   "outputs": [],
   "source": [
    "# Showing the values of the 'top10' variable\n",
    "top10.values"
   ]
  },
  {
   "cell_type": "code",
   "execution_count": null,
   "id": "280f2699",
   "metadata": {},
   "outputs": [],
   "source": [
    "# Checking whether the value (the total number of each incident) is a numerical value\n",
    "type(top10.values[0])"
   ]
  }
 ],
 "metadata": {
  "language_info": {
   "name": "python"
  }
 },
 "nbformat": 4,
 "nbformat_minor": 5
}
